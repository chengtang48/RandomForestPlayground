{
 "cells": [
  {
   "cell_type": "code",
   "execution_count": 9,
   "metadata": {
    "collapsed": false
   },
   "outputs": [
    {
     "name": "stdout",
     "output_type": "stream",
     "text": [
      "The autoreload extension is already loaded. To reload it, use:\n",
      "  %reload_ext autoreload\n"
     ]
    }
   ],
   "source": [
    "%load_ext autoreload\n",
    "%autoreload 2\n",
    "%matplotlib inline\n",
    "import pylab\n",
    "####################### Plotting tools\n",
    "import matplotlib\n",
    "import matplotlib.pyplot as plt\n",
    "#import seaborn\n",
    "####################### data frames\n",
    "import pandas as pd\n",
    "from pandas.tools import plotting\n",
    "####################### Utilities\n",
    "import urllib\n",
    "from six.moves import cPickle as pickle\n",
    "import random \n",
    "from csv import reader\n",
    "from math import sqrt\n",
    "from math import floor\n",
    "import os\n",
    "import numpy as np\n",
    "import scipy.sparse as sps\n",
    "from pandas import DataFrame\n",
    "from IPython.display import display\n",
    "######################## From scikit-learn\n",
    "from sklearn import random_projection\n",
    "from sklearn.ensemble import RandomForestClassifier\n",
    "from sklearn.tree import DecisionTreeClassifier\n",
    "######################## From home directory\n",
    "from forest_class import forest\n",
    "from generalTrees_class import flex_binary_trees, master_trees\n",
    "from tree_utilities import *"
   ]
  },
  {
   "cell_type": "code",
   "execution_count": 10,
   "metadata": {
    "collapsed": true
   },
   "outputs": [],
   "source": [
    "######------ Utility functions\n",
    "def cross_valid_split(n_data, n_folds):\n",
    "    \"\"\"\n",
    "    Given size of the data and number of folds\n",
    "    Returns n_folds disjoint sets of indices, where indices\n",
    "    in each fold are chosen u.a.r. without replacement\n",
    "    \"\"\"\n",
    "    data_ind = list(range(n_data))    \n",
    "    folds = list()\n",
    "    fold_size = floor(n_data/n_folds)\n",
    "    for i in range(n_folds):\n",
    "        if i < n_folds-1:\n",
    "            fold = list()\n",
    "            while len(fold) <= fold_size:\n",
    "                index = random.randrange(len(data_ind))\n",
    "                fold.append(data_ind.pop(index))\n",
    "            folds.append(fold)\n",
    "        else:\n",
    "            ## assign all remaining data to the last fold\n",
    "            folds.append(data_ind)\n",
    "    return folds\n",
    "\n",
    "def zero_one_loss(labels, predictions):\n",
    "    correct = 0\n",
    "    for i in range(len(labels)):\n",
    "        if labels[i] == predictions[i]:\n",
    "            correct += 1\n",
    "    loss = (len(labels)-correct)/float(len(labels))\n",
    "    return loss\n",
    "\n",
    "def explained_var_loss(labels, predictions):\n",
    "    #res_var = np.sum(np.array([diff**2 for diff in labels-predictions]))\n",
    "    res_var = np.var(np.array(labels)-np.array(predictions))\n",
    "    tot_var = np.var(np.array(labels))\n",
    "    \n",
    "    return 1-res_var/tot_var\n",
    "\n",
    "def l2_loss(labels, predictions):\n",
    "    loss = np.linalg.norm(np.array(labels)-np.array(predictions))\n",
    "    return loss/(len(labels)**(1/2))\n",
    "\n",
    "def csize_decrease_rate(data, tree):\n",
    "    \"\"\"\n",
    "    This is an unsupervised evaluation, which tries to capture how fast\n",
    "    the data size of a cell decreases after building a tree\n",
    "    \"\"\"\n",
    "    diam_s,_,_ = data_diameter(data)\n",
    "    diam_f = 0\n",
    "    \n",
    "    if hasattr(tree, 'slave_tree'):\n",
    "        ## if this is a master tree\n",
    "        for leaf in traverseLeaves_mtree(tree):\n",
    "            diam, _, _ = data_diameter(leaf.slave_tree.data[leaf.slave_tree.data_ind, :])\n",
    "            if diam > diam_f:\n",
    "                diam_f = diam\n",
    "            \n",
    "    else:\n",
    "        ## if this is normal binary tree\n",
    "        for leaf in traverseLeaves(tree):\n",
    "            diam, _, _ = data_diameter(leaf.data[leaf.data_ind,:])\n",
    "            if diam > diam_f:\n",
    "                diam_f = diam\n",
    "        \n",
    "    return (diam_s/diam_f)/getDepth(tree)\n",
    "        \n",
    "\n",
    "def cross_valid_eval(data, labels, n_folds, loss, algorithm, sklearn=False, need_ind=False, **kwargs):\n",
    "    \"\"\"\n",
    "    Given data and labels, a loss function, and a method\n",
    "    generate a list of cv-losses\n",
    "    \n",
    "    \"\"\"\n",
    "    ## generate random folds\n",
    "    folds_ind = cross_valid_split(data.shape[0], n_folds)\n",
    "    losses = list()\n",
    "    for fold_ind in folds_ind:\n",
    "        print(\"Evaluating the %d-th fold\" %(len(losses)+1))\n",
    "        test_ind = fold_ind\n",
    "        folds_ind_ = list(folds_ind) # this ensures we are not modifying the original list!\n",
    "        folds_ind_.remove(fold_ind)\n",
    "        train_ind = [item for sublist in folds_ind_ for item in sublist] #flatten remaining index set\n",
    "        ## Further divide the data into train and test\n",
    "        data_tr = data[train_ind,:]\n",
    "        labels_tr = labels[train_ind]\n",
    "        data_tt = data[test_ind,:]\n",
    "        labels_tt = labels[test_ind]\n",
    "        # train the algorithm \n",
    "        if sklearn:\n",
    "            alg = algorithm(**kwargs)\n",
    "            alg.fit(data_tr, labels_tr)\n",
    "        elif need_ind:\n",
    "            data_ind = np.ones(data_tr.shape[0], dtype=bool)\n",
    "            alg = algorithm(data_tr, data_indices=data_ind, labels=labels_tr, **kwargs) #init\n",
    "            alg.train()\n",
    "        else:\n",
    "            # RF and master trees don't need to be given an index \n",
    "            alg = algorithm(data_tr, labels=labels_tr, **kwargs) #init\n",
    "            alg.train()\n",
    "        #c = print_mtree_leaves(alg) ## added should be removed\n",
    "        #print(\"There are %d partitions\" %c)\n",
    "        \n",
    "        # calculate loss on the current fold\n",
    "        #dp = None\n",
    "        #if isinstance(alg, DecisionTreeClassifier):\n",
    "        #    dp = alg.decision_path(data_tr)\n",
    "        losses.append(loss(labels_tt, alg.predict(data_tt)))\n",
    "        #print(labels[0],alg.predict(data_tt)[0])\n",
    "        del alg\n",
    "    return losses                  "
   ]
  },
  {
   "cell_type": "markdown",
   "metadata": {},
   "source": [
    "## Dataset I - MNIST\n"
   ]
  },
  {
   "cell_type": "code",
   "execution_count": 11,
   "metadata": {
    "collapsed": false
   },
   "outputs": [
    {
     "name": "stdout",
     "output_type": "stream",
     "text": [
      "In MNIST, there are 6824 (7293) data points with label 0 (1)\n"
     ]
    }
   ],
   "source": [
    "from sklearn.datasets import fetch_mldata\n",
    "mnist = fetch_mldata('MNIST original')\n",
    "\n",
    "ind4 = mnist.target == 4\n",
    "ind7 = mnist.target == 7\n",
    "\n",
    "data0 = mnist.data[ind4]\n",
    "data1 = mnist.data[ind7]\n",
    "data_all = np.concatenate((data0,data1), axis=0)\n",
    "labels_all = np.ones(data_all.shape[0])\n",
    "labels_all[:data0.shape[0]] = 0\n",
    "rind = np.random.permutation(len(labels_all))\n",
    "data_all_perm = data_all[rind]\n",
    "labels_all_perm = labels_all[rind]\n",
    "\n",
    "print('In MNIST, there are %d (%d) data points with label 0 (1)'%(len(data0), len(data1)))\n",
    "\n",
    "\n",
    "def maybe_pickle(dataname, data = None, force = False, verbose = True):\n",
    "    \"\"\"\n",
    "    Process and pickle a dataset if not present\n",
    "    \"\"\"\n",
    "    filename = dataname + '.pickle'\n",
    "    if force or not os.path.exists(filename):\n",
    "        # pickle the dataset\n",
    "        print('Pickling data to file %s' % filename)\n",
    "        try:\n",
    "            with open(filename, 'wb') as f:\n",
    "                pickle.dump(data, f, pickle.HIGHEST_PROTOCOL)\n",
    "        except Exception as e:\n",
    "            print('Unable to save to', filename, ':', e) \n",
    "    else:\n",
    "        print('%s already present - Skipping pickling.' % filename)\n",
    "        with open(filename, 'rb') as f:\n",
    "            data = pickle.load(f)\n",
    "\n",
    "    return data\n",
    "\n",
    "#data_dict = maybe_pickle('sonar.all_data', {'data':data_all_perm, 'labels':labels_all_perm}) "
   ]
  },
  {
   "cell_type": "code",
   "execution_count": 12,
   "metadata": {
    "collapsed": false
   },
   "outputs": [
    {
     "name": "stdout",
     "output_type": "stream",
     "text": [
      "In MNIST, there are 12000 train and 2117 test data\n"
     ]
    }
   ],
   "source": [
    "data = data_all\n",
    "labels = labels_all\n",
    "data_tr = data[:12000,:]\n",
    "labels_tr = labels[:12000]\n",
    "data_tt = data[12000:,:]\n",
    "labels_tt = labels[12000:]\n",
    "print('In MNIST, there are %d train and %d test data' %(len(labels_tr), len(labels_tt)))"
   ]
  },
  {
   "cell_type": "code",
   "execution_count": 14,
   "metadata": {
    "collapsed": false
   },
   "outputs": [
    {
     "name": "stdout",
     "output_type": "stream",
     "text": [
      "Evaluating the 1-th fold\n",
      "Evaluating the 2-th fold\n",
      "Evaluating the 3-th fold\n",
      "Evaluating the 4-th fold\n",
      "Evaluating the 5-th fold\n",
      "Evaluating the 1-th fold\n",
      "Evaluating the 2-th fold\n",
      "Evaluating the 3-th fold\n",
      "Evaluating the 4-th fold\n",
      "Evaluating the 5-th fold\n",
      "Evaluating the 1-th fold\n"
     ]
    },
    {
     "ename": "KeyboardInterrupt",
     "evalue": "",
     "output_type": "error",
     "traceback": [
      "\u001b[0;31m---------------------------------------------------------------------------\u001b[0m",
      "\u001b[0;31mKeyboardInterrupt\u001b[0m                         Traceback (most recent call last)",
      "\u001b[0;32m<ipython-input-14-cf0a29b7623c>\u001b[0m in \u001b[0;36m<module>\u001b[0;34m()\u001b[0m\n\u001b[1;32m     14\u001b[0m     \u001b[0mkwargs\u001b[0m \u001b[0;34m=\u001b[0m \u001b[0;34m{\u001b[0m\u001b[0;34m'proj_design'\u001b[0m\u001b[0;34m:\u001b[0m\u001b[0mproj_design\u001b[0m\u001b[0;34m,\u001b[0m \u001b[0;34m'split_design'\u001b[0m\u001b[0;34m:\u001b[0m\u001b[0msplit_design\u001b[0m\u001b[0;34m,\u001b[0m \u001b[0;34m'stop_design'\u001b[0m\u001b[0;34m:\u001b[0m\u001b[0mstop_design\u001b[0m\u001b[0;34m}\u001b[0m\u001b[0;34m\u001b[0m\u001b[0m\n\u001b[1;32m     15\u001b[0m     scores_c1.append(cross_valid_eval(data_tr, labels_tr, 5, zero_one_loss, flex_binary_trees, \n\u001b[0;32m---> 16\u001b[0;31m                                               need_ind=True, **kwargs))\n\u001b[0m\u001b[1;32m     17\u001b[0m     \u001b[0;31m#scores_c1_test.append(cross_valid_eval(data_tt, labels_tt, 5, zero_one_loss, flex_binary_trees,\u001b[0m\u001b[0;34m\u001b[0m\u001b[0;34m\u001b[0m\u001b[0m\n\u001b[1;32m     18\u001b[0m     \u001b[0;31m#                                          need_ind=True, **kwargs))\u001b[0m\u001b[0;34m\u001b[0m\u001b[0;34m\u001b[0m\u001b[0m\n",
      "\u001b[0;32m<ipython-input-10-50cea26cde9f>\u001b[0m in \u001b[0;36mcross_valid_eval\u001b[0;34m(data, labels, n_folds, loss, algorithm, sklearn, need_ind, **kwargs)\u001b[0m\n\u001b[1;32m     92\u001b[0m             \u001b[0mdata_ind\u001b[0m \u001b[0;34m=\u001b[0m \u001b[0mnp\u001b[0m\u001b[0;34m.\u001b[0m\u001b[0mones\u001b[0m\u001b[0;34m(\u001b[0m\u001b[0mdata_tr\u001b[0m\u001b[0;34m.\u001b[0m\u001b[0mshape\u001b[0m\u001b[0;34m[\u001b[0m\u001b[0;36m0\u001b[0m\u001b[0;34m]\u001b[0m\u001b[0;34m,\u001b[0m \u001b[0mdtype\u001b[0m\u001b[0;34m=\u001b[0m\u001b[0mbool\u001b[0m\u001b[0;34m)\u001b[0m\u001b[0;34m\u001b[0m\u001b[0m\n\u001b[1;32m     93\u001b[0m             \u001b[0malg\u001b[0m \u001b[0;34m=\u001b[0m \u001b[0malgorithm\u001b[0m\u001b[0;34m(\u001b[0m\u001b[0mdata_tr\u001b[0m\u001b[0;34m,\u001b[0m \u001b[0mdata_indices\u001b[0m\u001b[0;34m=\u001b[0m\u001b[0mdata_ind\u001b[0m\u001b[0;34m,\u001b[0m \u001b[0mlabels\u001b[0m\u001b[0;34m=\u001b[0m\u001b[0mlabels_tr\u001b[0m\u001b[0;34m,\u001b[0m \u001b[0;34m**\u001b[0m\u001b[0mkwargs\u001b[0m\u001b[0;34m)\u001b[0m \u001b[0;31m#init\u001b[0m\u001b[0;34m\u001b[0m\u001b[0m\n\u001b[0;32m---> 94\u001b[0;31m             \u001b[0malg\u001b[0m\u001b[0;34m.\u001b[0m\u001b[0mtrain\u001b[0m\u001b[0;34m(\u001b[0m\u001b[0;34m)\u001b[0m\u001b[0;34m\u001b[0m\u001b[0m\n\u001b[0m\u001b[1;32m     95\u001b[0m         \u001b[0;32melse\u001b[0m\u001b[0;34m:\u001b[0m\u001b[0;34m\u001b[0m\u001b[0m\n\u001b[1;32m     96\u001b[0m             \u001b[0;31m# RF and master trees don't need to be given an index\u001b[0m\u001b[0;34m\u001b[0m\u001b[0;34m\u001b[0m\u001b[0m\n",
      "\u001b[0;32m/Users/tangch/Documents/Codes/PythonProjects/myprojects/treeEnsembles/generalTrees_class.py\u001b[0m in \u001b[0;36mtrain\u001b[0;34m(self)\u001b[0m\n\u001b[1;32m    216\u001b[0m \u001b[0;34m\u001b[0m\u001b[0m\n\u001b[1;32m    217\u001b[0m             self.rightChild_ = flex_binary_trees(self.data, right, self.proj_design, \n\u001b[0;32m--> 218\u001b[0;31m                                                      \u001b[0mself\u001b[0m\u001b[0;34m.\u001b[0m\u001b[0msplit_design\u001b[0m\u001b[0;34m,\u001b[0m \u001b[0mself\u001b[0m\u001b[0;34m.\u001b[0m\u001b[0mstop_design\u001b[0m\u001b[0;34m,\u001b[0m\u001b[0;34m\u001b[0m\u001b[0m\n\u001b[0m\u001b[1;32m    219\u001b[0m                                                      self.height_+1, self.labels)\n\u001b[1;32m    220\u001b[0m             \u001b[0mself\u001b[0m\u001b[0;34m.\u001b[0m\u001b[0mrightChild_\u001b[0m\u001b[0;34m.\u001b[0m\u001b[0mbuildtree\u001b[0m\u001b[0;34m(\u001b[0m\u001b[0;34m)\u001b[0m\u001b[0;34m\u001b[0m\u001b[0m\n",
      "\u001b[0;32m/Users/tangch/Documents/Codes/PythonProjects/myprojects/treeEnsembles/generalTrees_class.py\u001b[0m in \u001b[0;36mbuildtree\u001b[0;34m(self)\u001b[0m\n\u001b[1;32m    211\u001b[0m             \u001b[0;31m## By our choice, empty cell will still make a node\u001b[0m\u001b[0;34m\u001b[0m\u001b[0;34m\u001b[0m\u001b[0m\n\u001b[1;32m    212\u001b[0m             self.leftChild_ = flex_binary_trees(self.data, left, self.proj_design, \n\u001b[0;32m--> 213\u001b[0;31m                                                     \u001b[0mself\u001b[0m\u001b[0;34m.\u001b[0m\u001b[0msplit_design\u001b[0m\u001b[0;34m,\u001b[0m \u001b[0mself\u001b[0m\u001b[0;34m.\u001b[0m\u001b[0mstop_design\u001b[0m\u001b[0;34m,\u001b[0m\u001b[0;34m\u001b[0m\u001b[0m\n\u001b[0m\u001b[1;32m    214\u001b[0m                                                     self.height_+1, self.labels)\n\u001b[1;32m    215\u001b[0m             \u001b[0mself\u001b[0m\u001b[0;34m.\u001b[0m\u001b[0mleftChild_\u001b[0m\u001b[0;34m.\u001b[0m\u001b[0mbuildtree\u001b[0m\u001b[0;34m(\u001b[0m\u001b[0;34m)\u001b[0m\u001b[0;34m\u001b[0m\u001b[0m\n",
      "\u001b[0;32m/Users/tangch/Documents/Codes/PythonProjects/myprojects/treeEnsembles/generalTrees_class.py\u001b[0m in \u001b[0;36mbuildtree\u001b[0;34m(self)\u001b[0m\n\u001b[1;32m    211\u001b[0m             \u001b[0;31m## By our choice, empty cell will still make a node\u001b[0m\u001b[0;34m\u001b[0m\u001b[0;34m\u001b[0m\u001b[0m\n\u001b[1;32m    212\u001b[0m             self.leftChild_ = flex_binary_trees(self.data, left, self.proj_design, \n\u001b[0;32m--> 213\u001b[0;31m                                                     \u001b[0mself\u001b[0m\u001b[0;34m.\u001b[0m\u001b[0msplit_design\u001b[0m\u001b[0;34m,\u001b[0m \u001b[0mself\u001b[0m\u001b[0;34m.\u001b[0m\u001b[0mstop_design\u001b[0m\u001b[0;34m,\u001b[0m\u001b[0;34m\u001b[0m\u001b[0m\n\u001b[0m\u001b[1;32m    214\u001b[0m                                                     self.height_+1, self.labels)\n\u001b[1;32m    215\u001b[0m             \u001b[0mself\u001b[0m\u001b[0;34m.\u001b[0m\u001b[0mleftChild_\u001b[0m\u001b[0;34m.\u001b[0m\u001b[0mbuildtree\u001b[0m\u001b[0;34m(\u001b[0m\u001b[0;34m)\u001b[0m\u001b[0;34m\u001b[0m\u001b[0m\n",
      "\u001b[0;32m/Users/tangch/Documents/Codes/PythonProjects/myprojects/treeEnsembles/generalTrees_class.py\u001b[0m in \u001b[0;36mbuildtree\u001b[0;34m(self)\u001b[0m\n\u001b[1;32m    156\u001b[0m             \u001b[0;32massert\u001b[0m \u001b[0mself\u001b[0m\u001b[0;34m.\u001b[0m\u001b[0mlabels\u001b[0m \u001b[0;32mis\u001b[0m \u001b[0;32mnot\u001b[0m \u001b[0mNone\u001b[0m\u001b[0;34m,\u001b[0m \u001b[0;34m\"You must provide data labels to execute CART!\"\u001b[0m\u001b[0;34m\u001b[0m\u001b[0m\n\u001b[1;32m    157\u001b[0m         \u001b[0;32mif\u001b[0m \u001b[0;32mnot\u001b[0m \u001b[0mself\u001b[0m\u001b[0;34m.\u001b[0m\u001b[0misLeaf\u001b[0m\u001b[0;34m:\u001b[0m\u001b[0;34m\u001b[0m\u001b[0m\n\u001b[0;32m--> 158\u001b[0;31m             \u001b[0;31m## set projection/transformation/selection matrix\u001b[0m\u001b[0;34m\u001b[0m\u001b[0;34m\u001b[0m\u001b[0m\n\u001b[0m\u001b[1;32m    159\u001b[0m             \u001b[0mA\u001b[0m \u001b[0;34m=\u001b[0m \u001b[0mself\u001b[0m\u001b[0;34m.\u001b[0m\u001b[0mproj_rule_function\u001b[0m\u001b[0;34m(\u001b[0m\u001b[0;34m)\u001b[0m  \u001b[0;31m# A can be dense or sparse matrix\u001b[0m\u001b[0;34m\u001b[0m\u001b[0m\n\u001b[1;32m    160\u001b[0m \u001b[0;34m\u001b[0m\u001b[0m\n",
      "\u001b[0;32m/Users/tangch/Documents/Codes/PythonProjects/myprojects/treeEnsembles/generalTrees_class.py\u001b[0m in \u001b[0;36msplit_rule_function\u001b[0;34m(self, A)\u001b[0m\n\u001b[1;32m    130\u001b[0m         \u001b[0;32melse\u001b[0m\u001b[0;34m:\u001b[0m\u001b[0;34m\u001b[0m\u001b[0m\n\u001b[1;32m    131\u001b[0m             \u001b[0mparams\u001b[0m \u001b[0;34m=\u001b[0m \u001b[0mdict\u001b[0m\u001b[0;34m(\u001b[0m\u001b[0;34m)\u001b[0m\u001b[0;34m\u001b[0m\u001b[0m\n\u001b[0;32m--> 132\u001b[0;31m \u001b[0;34m\u001b[0m\u001b[0m\n\u001b[0m\u001b[1;32m    133\u001b[0m         \u001b[0;32mif\u001b[0m \u001b[0mmethod\u001b[0m \u001b[0;34m==\u001b[0m \u001b[0;34m'cart'\u001b[0m\u001b[0;34m:\u001b[0m\u001b[0;34m\u001b[0m\u001b[0m\n\u001b[1;32m    134\u001b[0m             \u001b[0;32mreturn\u001b[0m \u001b[0mcart_split\u001b[0m\u001b[0;34m(\u001b[0m\u001b[0mself\u001b[0m\u001b[0;34m.\u001b[0m\u001b[0mdata\u001b[0m\u001b[0;34m[\u001b[0m\u001b[0mself\u001b[0m\u001b[0;34m.\u001b[0m\u001b[0mdata_ind\u001b[0m\u001b[0;34m,\u001b[0m\u001b[0;34m:\u001b[0m\u001b[0;34m]\u001b[0m\u001b[0;34m,\u001b[0m \u001b[0mA\u001b[0m\u001b[0;34m,\u001b[0m \u001b[0mself\u001b[0m\u001b[0;34m.\u001b[0m\u001b[0mlabels\u001b[0m\u001b[0;34m[\u001b[0m\u001b[0mself\u001b[0m\u001b[0;34m.\u001b[0m\u001b[0mdata_ind\u001b[0m\u001b[0;34m]\u001b[0m\u001b[0;34m,\u001b[0m \u001b[0;34m**\u001b[0m\u001b[0mparams\u001b[0m\u001b[0;34m)\u001b[0m\u001b[0;34m\u001b[0m\u001b[0m\n",
      "\u001b[0;32m/Users/tangch/Documents/Codes/PythonProjects/myprojects/treeEnsembles/tree_utilities.pyc\u001b[0m in \u001b[0;36mcart_split\u001b[0;34m(data, proj_mat, labels, regress)\u001b[0m\n\u001b[1;32m    120\u001b[0m         \u001b[0;32mfor\u001b[0m \u001b[0mi\u001b[0m \u001b[0;32min\u001b[0m \u001b[0mrange\u001b[0m\u001b[0;34m(\u001b[0m\u001b[0mproj_mat\u001b[0m\u001b[0;34m.\u001b[0m\u001b[0mshape\u001b[0m\u001b[0;34m[\u001b[0m\u001b[0;36m1\u001b[0m\u001b[0;34m]\u001b[0m\u001b[0;34m)\u001b[0m\u001b[0;34m:\u001b[0m\u001b[0;34m\u001b[0m\u001b[0m\n\u001b[1;32m    121\u001b[0m             \u001b[0;32mif\u001b[0m \u001b[0;32mnot\u001b[0m \u001b[0mregress\u001b[0m\u001b[0;34m:\u001b[0m\u001b[0;34m\u001b[0m\u001b[0m\n\u001b[0;32m--> 122\u001b[0;31m                 \u001b[0;31m# classification\u001b[0m\u001b[0;34m\u001b[0m\u001b[0;34m\u001b[0m\u001b[0m\n\u001b[0m\u001b[1;32m    123\u001b[0m                 \u001b[0mscore_new\u001b[0m\u001b[0;34m,\u001b[0m \u001b[0mthres_new\u001b[0m \u001b[0;34m=\u001b[0m \u001b[0mcscore\u001b[0m\u001b[0;34m(\u001b[0m\u001b[0mdata_trans\u001b[0m\u001b[0;34m[\u001b[0m\u001b[0;34m:\u001b[0m\u001b[0;34m,\u001b[0m\u001b[0mi\u001b[0m\u001b[0;34m]\u001b[0m\u001b[0;34m,\u001b[0m \u001b[0mlabels\u001b[0m\u001b[0;34m)\u001b[0m\u001b[0;34m\u001b[0m\u001b[0m\n\u001b[1;32m    124\u001b[0m             \u001b[0;32melse\u001b[0m\u001b[0;34m:\u001b[0m\u001b[0;34m\u001b[0m\u001b[0m\n",
      "\u001b[0;32m/Users/tangch/Documents/Codes/PythonProjects/myprojects/treeEnsembles/tree_utilities.pyc\u001b[0m in \u001b[0;36mcscore\u001b[0;34m(data_1D, labels)\u001b[0m\n\u001b[1;32m    145\u001b[0m         \u001b[0mcell_l\u001b[0m \u001b[0;34m=\u001b[0m \u001b[0mind_sorted\u001b[0m\u001b[0;34m[\u001b[0m\u001b[0;34m:\u001b[0m\u001b[0mi\u001b[0m\u001b[0;34m]\u001b[0m\u001b[0;34m\u001b[0m\u001b[0m\n\u001b[1;32m    146\u001b[0m         \u001b[0mcell_r\u001b[0m \u001b[0;34m=\u001b[0m \u001b[0mind_sorted\u001b[0m\u001b[0;34m[\u001b[0m\u001b[0mi\u001b[0m\u001b[0;34m:\u001b[0m\u001b[0;34m]\u001b[0m\u001b[0;34m\u001b[0m\u001b[0m\n\u001b[0;32m--> 147\u001b[0;31m         \u001b[0msplit_val\u001b[0m \u001b[0;34m=\u001b[0m \u001b[0mdata_sorted\u001b[0m\u001b[0;34m[\u001b[0m\u001b[0mi\u001b[0m\u001b[0;34m]\u001b[0m\u001b[0;34m\u001b[0m\u001b[0m\n\u001b[0m\u001b[1;32m    148\u001b[0m         \u001b[0;32mif\u001b[0m \u001b[0;32mnot\u001b[0m \u001b[0mlist\u001b[0m\u001b[0;34m(\u001b[0m\u001b[0mlabels\u001b[0m\u001b[0;34m[\u001b[0m\u001b[0mcell_l\u001b[0m\u001b[0;34m]\u001b[0m\u001b[0;34m)\u001b[0m \u001b[0;32mor\u001b[0m \u001b[0;32mnot\u001b[0m \u001b[0mlist\u001b[0m\u001b[0;34m(\u001b[0m\u001b[0mlabels\u001b[0m\u001b[0;34m[\u001b[0m\u001b[0mcell_r\u001b[0m\u001b[0;34m]\u001b[0m\u001b[0;34m)\u001b[0m\u001b[0;34m:\u001b[0m\u001b[0;34m\u001b[0m\u001b[0m\n\u001b[1;32m    149\u001b[0m             \u001b[0;31m#Do nothing if after either of the left and right labels are empty\u001b[0m\u001b[0;34m\u001b[0m\u001b[0;34m\u001b[0m\u001b[0m\n",
      "\u001b[0;31mKeyboardInterrupt\u001b[0m: "
     ]
    }
   ],
   "source": [
    "### Base tree evaluations \n",
    "split_design = {'name':'cart'}\n",
    "######## original Decision Tree (sparisty=1) ############\n",
    "sparsity = 1\n",
    "target_dim = [1, 10, 28, 40]  ## varies target dimension (i.e., \"mtry\" variable, default is 28 = sqrt(784)) \n",
    "stop_design={'name':'naive'}\n",
    "scores_c1 = list()\n",
    "scores_c1_test = list()\n",
    "params_c1 = list()\n",
    "\n",
    "##\n",
    "for t_dim in target_dim:\n",
    "    proj_design={'name':'projmat','params':{'name':'breiman','sparsity':sparsity,'target_dim':t_dim}}        \n",
    "    kwargs = {'proj_design':proj_design, 'split_design':split_design, 'stop_design':stop_design}\n",
    "    scores_c1.append(cross_valid_eval(data_tr, labels_tr, 5, zero_one_loss, flex_binary_trees, \n",
    "                                              need_ind=True, **kwargs))\n",
    "    #scores_c1_test.append(cross_valid_eval(data_tt, labels_tt, 5, zero_one_loss, flex_binary_trees, \n",
    "    #                                          need_ind=True, **kwargs))\n",
    "    params_c1.append([t_dim])\n",
    "    \n",
    "######## Decision Tree with fixed sparsity ############\n",
    "sparsity = [1, 3, 5]\n",
    "target_dim = 28  ## varies target dimension (i.e., \"mtry\" variable, default is 28 = sqrt(784)) \n",
    "stop_design={'name':'naive'}\n",
    "scores_c2 = list()\n",
    "scores_c2_test = list()\n",
    "params_c2 = list()\n",
    "\n",
    "##\n",
    "for s in sparsity:\n",
    "    proj_design={'name':'projmat','params':{'name':'breiman','sparsity':s,'target_dim':target_dim}}        \n",
    "    kwargs = {'proj_design':proj_design, 'split_design':split_design, 'stop_design':stop_design}\n",
    "    scores_c2.append(cross_valid_eval(data_tr, labels_tr, 5, zero_one_loss, flex_binary_trees, \n",
    "                                              need_ind=True, **kwargs))\n",
    "    #scores_c2_test.append(cross_valid_eval(data_tt, labels_tt, 5, zero_one_loss, flex_binary_trees, \n",
    "    #                                          need_ind=True, **kwargs))\n",
    "    params_c2.append([s])\n",
    "\n",
    "######## original Random projection tree (target_dim=1) ############\n",
    "target_dim = 1\n",
    "stop_rule = 'cell_size'\n",
    "scores_c3 = list()\n",
    "scores_c3_test = list()\n",
    "params_c3 = list()\n",
    "##\n",
    "split_design = {'name':'median_perturb'}\n",
    "proj_design = {'name':'projmat','params':{'name':'dasgupta','target_dim':target_dim}}\n",
    "stop_design = {'name':stop_rule}\n",
    "if stop_rule == 'cell_size':\n",
    "    ddiam, _, _ = data_diameter(data_tr)\n",
    "    stop_design['params'] = {'diameter':ddiam, 'max_level':2*np.log(data_tr.shape[0])}\n",
    "if split_design['name'] == 'median_perturb':\n",
    "    ddiam,_,_ = data_diameter(data_tr)\n",
    "    split_design['params'] = {'diameter':ddiam}\n",
    "kwargs = {'proj_design':proj_design, 'split_design':split_design, 'stop_design':stop_design}\n",
    "scores_c3.append(cross_valid_eval(data_tr, labels_tr, 5, zero_one_loss, flex_binary_trees, \n",
    "                                          need_ind=True, **kwargs))\n",
    "#scores_c2_test.append(cross_valid_eval(data_tt, labels_tt, 5, zero_one_loss, flex_binary_trees, \n",
    "#                                          need_ind=True, **kwargs))\n",
    "\n",
    "######## Random projection tree with CART split (target_dim=1) ############\n",
    "target_dim = 1\n",
    "stop_rule = 'cell_size'\n",
    "scores_c4 = list()\n",
    "scores_c4_test = list()\n",
    "params_c4 = list()\n",
    "##\n",
    "split_design = {'name':'cart'}\n",
    "proj_design = {'name':'projmat','params':{'name':'dasgupta','target_dim':target_dim}}\n",
    "stop_design = {'name':stop_rule}\n",
    "if stop_rule == 'cell_size':\n",
    "    ddiam, _, _ = data_diameter(data_tr)\n",
    "    stop_design['params'] = {'diameter':ddiam, 'max_level':2*np.log(data_tr.shape[0])}\n",
    "if split_design['name'] == 'median_perturb':\n",
    "    ddiam,_,_ = data_diameter(data_tr)\n",
    "    split_design['params'] = {'diameter':ddiam}\n",
    "kwargs = {'proj_design':proj_design, 'split_design':split_design, 'stop_design':stop_design}\n",
    "scores_c4.append(cross_valid_eval(data_tr, labels_tr, 5, zero_one_loss, flex_binary_trees, \n",
    "                                          need_ind=True, **kwargs))\n"
   ]
  },
  {
   "cell_type": "code",
   "execution_count": 127,
   "metadata": {
    "collapsed": false
   },
   "outputs": [
    {
     "data": {
      "text/plain": [
       "<matplotlib.figure.Figure at 0x11ed87610>"
      ]
     },
     "metadata": {},
     "output_type": "display_data"
    },
    {
     "data": {
      "image/png": "[encoded data removed]",
      "text/plain": [
       "<matplotlib.figure.Figure at 0x11ed87650>"
      ]
     },
     "metadata": {},
     "output_type": "display_data"
    }
   ],
   "source": [
    "## Plotting\n",
    "data = np.array(scores_c1).T\n",
    "fig = plt.figure()\n",
    "f, (ax1, ax2, ax3, ax4) = plt.subplots(1, 4, sharey=True)\n",
    "#ax1 = fig.add_subplot(121)\n",
    "ax1.boxplot(data)\n",
    "ax1.set_xlabel('mtry')\n",
    "#ax1.set_xticks([1, 2, 3, 4], [1, 10, 28, 40])\n",
    "ax1.set_ylabel('Mis-classification rate')\n",
    "ax1.set_title(\"Original decision tree\\n\")\n",
    "######\n",
    "data = np.array(scores_c2).T\n",
    "#ax2 = fig.add_subplot(122)\n",
    "ax2.boxplot(data)\n",
    "#ax2.set_xticks([1, 2, 3], [1, 3, 5])\n",
    "ax2.set_xlabel('sparsity')\n",
    "#ax2.set_ylabel('zero-one-loss')\n",
    "ax2.set_title(\"Decision trees \\n (with different sparsity)\")\n",
    "######\n",
    "ax3.boxplot(scores_c3)\n",
    "ax3.set_title('Original RP tree \\n(median split)')\n",
    "######\n",
    "ax4.boxplot(scores_c4)\n",
    "ax4.set_title('RP tree \\n(CART split)')\n",
    "#####\n",
    "plt.sca(ax1)\n",
    "plt.xticks([1, 2, 3, 4], [1, 10, 28, 40])\n",
    "plt.sca(ax2)\n",
    "plt.xticks([1, 2, 3], [1, 3, 5])\n",
    "plt.show()\n",
    "\n",
    "\n"
   ]
  },
  {
   "cell_type": "code",
   "execution_count": 6,
   "metadata": {
    "collapsed": false
   },
   "outputs": [
    {
     "name": "stdout",
     "output_type": "stream",
     "text": [
      "Evaluating the 1-th fold\n",
      "Evaluating the 2-th fold\n",
      "Evaluating the 3-th fold\n",
      "Evaluating the 4-th fold\n",
      "Evaluating the 5-th fold\n",
      "Evaluating the 1-th fold\n",
      "Evaluating the 2-th fold\n",
      "Evaluating the 3-th fold\n",
      "Evaluating the 4-th fold\n",
      "Evaluating the 5-th fold\n",
      "Evaluating the 1-th fold\n",
      "Evaluating the 2-th fold\n",
      "Evaluating the 3-th fold\n",
      "Evaluating the 4-th fold\n",
      "Evaluating the 5-th fold\n",
      "Evaluating the 1-th fold\n",
      "Evaluating the 2-th fold\n",
      "Evaluating the 3-th fold\n",
      "Evaluating the 4-th fold\n",
      "Evaluating the 5-th fold\n",
      "Evaluating the 1-th fold\n",
      "Evaluating the 2-th fold\n",
      "Evaluating the 3-th fold\n",
      "Evaluating the 4-th fold\n",
      "Evaluating the 5-th fold\n",
      "Evaluating the 1-th fold\n",
      "Evaluating the 2-th fold\n",
      "Evaluating the 3-th fold\n",
      "Evaluating the 4-th fold\n",
      "Evaluating the 5-th fold\n",
      "Evaluating the 1-th fold\n",
      "Evaluating the 2-th fold\n",
      "Evaluating the 3-th fold\n",
      "Evaluating the 4-th fold\n",
      "Evaluating the 5-th fold\n",
      "Evaluating the 1-th fold\n",
      "Evaluating the 2-th fold\n",
      "Evaluating the 3-th fold\n",
      "Evaluating the 4-th fold\n",
      "Evaluating the 5-th fold\n",
      "Evaluating the 1-th fold\n",
      "Evaluating the 2-th fold\n",
      "Evaluating the 3-th fold\n",
      "Evaluating the 4-th fold\n",
      "Evaluating the 5-th fold\n"
     ]
    }
   ],
   "source": [
    "### Forest evaluations\n",
    "n_trees_list = [10,50,100]\n",
    "n_samples_list = [10, 50, 100]\n",
    "\n",
    "\n",
    "################# Original RF\n",
    "proj_design={'name':'projmat','params':{'name':'breiman','sparsity':1,'target_dim':28}}\n",
    "split_design={'name':'cart'} \n",
    "stop_design = {'name':'naive'}\n",
    "kwargs = {'tree_design':{\"tree\":'flex','proj_design':proj_design,'split_design':split_design,'stop_design':stop_design}, \n",
    "          'predictor_type':'class'}\n",
    "scores_fc1 = list()\n",
    "params_fc1 = list()\n",
    "for n_trees in n_trees_list:\n",
    "    for n_samples in n_samples_list:\n",
    "        kwargs['n_trees'] = n_trees\n",
    "        kwargs['n_samples'] = n_samples\n",
    "        #kwargs['n_features'] = n_features\n",
    "        scores_fc1.append(cross_valid_eval(data_tr, labels_tr, 5, zero_one_loss, forest, **kwargs))\n",
    "        params_fc1.append([n_trees, n_samples])\n",
    "        \n"
   ]
  },
  {
   "cell_type": "code",
   "execution_count": 20,
   "metadata": {
    "collapsed": false
   },
   "outputs": [
    {
     "data": {
      "image/png": "[encoded data removed]",
      "text/plain": [
       "<matplotlib.figure.Figure at 0x11e15e410>"
      ]
     },
     "metadata": {},
     "output_type": "display_data"
    }
   ],
   "source": [
    "## Plotting for RF exp\n",
    "n_trees_list = [10,50,100]\n",
    "n_samples_list = [10, 50, 100]\n",
    "n_folds = 5\n",
    "x = np.zeros(len(n_trees_list)*len(n_samples_list)*n_folds)\n",
    "y = np.zeros(len(n_trees_list)*len(n_samples_list)*n_folds)\n",
    "val = np.zeros(len(n_trees_list)*len(n_samples_list)*n_folds)\n",
    "t = 0\n",
    "x_count = 0\n",
    "y_count = 0\n",
    "for nt in n_trees_list:\n",
    "    for ns in n_samples_list:\n",
    "        #print(y_count)\n",
    "        for fold in range(n_folds):\n",
    "            x[t] = nt + np.random.randn()\n",
    "            y[t] = ns + np.random.randn()\n",
    "            val[t] = scores_fc1[x_count+y_count][fold]\n",
    "            t += 1\n",
    "        y_count += 1\n",
    "    y_count = 0\n",
    "    x_count += 1\n",
    "    #print(x_count)\n",
    "\n",
    "plt.scatter(x, y, c=val, cmap='viridis')\n",
    "plt.xlabel(\"number of samples per tree\")\n",
    "plt.ylabel(\"number of trees\")\n",
    "plt.colorbar()\n",
    "plt.show()\n"
   ]
  },
  {
   "cell_type": "code",
   "execution_count": 34,
   "metadata": {
    "collapsed": false
   },
   "outputs": [
    {
     "name": "stdout",
     "output_type": "stream",
     "text": [
      "Evaluating the 1-th fold\n",
      "Evaluating the 2-th fold\n",
      "Evaluating the 3-th fold\n",
      "Evaluating the 4-th fold\n",
      "Evaluating the 5-th fold\n",
      "Evaluating the 1-th fold\n",
      "Evaluating the 2-th fold\n",
      "Evaluating the 3-th fold\n",
      "Evaluating the 4-th fold\n",
      "Evaluating the 5-th fold\n",
      "Evaluating the 1-th fold\n",
      "Evaluating the 2-th fold\n",
      "Evaluating the 3-th fold\n",
      "Evaluating the 4-th fold\n",
      "Evaluating the 5-th fold\n",
      "Evaluating the 1-th fold\n",
      "Evaluating the 2-th fold\n",
      "Evaluating the 3-th fold\n",
      "Evaluating the 4-th fold\n",
      "Evaluating the 5-th fold\n",
      "Evaluating the 1-th fold\n",
      "Evaluating the 2-th fold\n",
      "Evaluating the 3-th fold\n",
      "Evaluating the 4-th fold\n",
      "Evaluating the 5-th fold\n",
      "Evaluating the 1-th fold\n",
      "Evaluating the 2-th fold\n",
      "Evaluating the 3-th fold\n",
      "Evaluating the 4-th fold\n",
      "Evaluating the 5-th fold\n",
      "Evaluating the 1-th fold\n",
      "Evaluating the 2-th fold\n",
      "Evaluating the 3-th fold\n",
      "Evaluating the 4-th fold\n",
      "Evaluating the 5-th fold\n",
      "Evaluating the 1-th fold\n",
      "Evaluating the 2-th fold\n",
      "Evaluating the 3-th fold\n",
      "Evaluating the 4-th fold\n",
      "Evaluating the 5-th fold\n",
      "Evaluating the 1-th fold\n",
      "Evaluating the 2-th fold\n",
      "Evaluating the 3-th fold\n",
      "Evaluating the 4-th fold\n",
      "Evaluating the 5-th fold\n"
     ]
    }
   ],
   "source": [
    "### Forest evaluations II\n",
    "n_trees_list = [10,50,100]\n",
    "n_samples_list = [10, 50, 100]\n",
    "\n",
    "################# RP-tree ensemble\n",
    "target_dim = 1\n",
    "stop_rule = 'cell_size'\n",
    "##\n",
    "split_design = {'name':'median_perturb'}\n",
    "proj_design = {'name':'projmat','params':{'name':'dasgupta','target_dim':target_dim}}\n",
    "stop_design = {'name':stop_rule}\n",
    "if stop_rule == 'cell_size':\n",
    "    ddiam, _, _ = data_diameter(data_tr)\n",
    "    stop_design['params'] = {'diameter':ddiam, 'max_level':2*np.log(data_tr.shape[0])}\n",
    "if split_design['name'] == 'median_perturb':\n",
    "    ddiam,_,_ = data_diameter(data_tr)\n",
    "    split_design['params'] = {'diameter':ddiam}\n",
    "\n",
    "kwargs = {'tree_design':{\"tree\":'flex','proj_design':proj_design,'split_design':split_design,'stop_design':stop_design}, \n",
    "          'predictor_type':'class'}\n",
    "scores_fc2 = list()\n",
    "params_fc2 = list()\n",
    "for n_trees in n_trees_list:\n",
    "    for n_samples in n_samples_list:\n",
    "        kwargs['n_trees'] = n_trees\n",
    "        kwargs['n_samples'] = n_samples\n",
    "        #kwargs['n_features'] = n_features\n",
    "        scores_fc2.append(cross_valid_eval(data_tr, labels_tr, 5, zero_one_loss, forest, **kwargs))\n",
    "        params_fc2.append([n_trees, n_samples])"
   ]
  },
  {
   "cell_type": "code",
   "execution_count": 42,
   "metadata": {
    "collapsed": false
   },
   "outputs": [
    {
     "name": "stdout",
     "output_type": "stream",
     "text": [
      "Evaluating the 1-th fold\n",
      "Evaluating the 2-th fold\n",
      "Evaluating the 3-th fold\n",
      "Evaluating the 4-th fold\n",
      "Evaluating the 5-th fold\n",
      "Evaluating the 1-th fold\n",
      "Evaluating the 2-th fold\n",
      "Evaluating the 3-th fold\n",
      "Evaluating the 4-th fold\n",
      "Evaluating the 5-th fold\n",
      "Evaluating the 1-th fold\n",
      "Evaluating the 2-th fold\n",
      "Evaluating the 3-th fold\n",
      "Evaluating the 4-th fold\n",
      "Evaluating the 5-th fold\n",
      "Evaluating the 1-th fold\n",
      "Evaluating the 2-th fold\n",
      "Evaluating the 3-th fold\n",
      "Evaluating the 4-th fold\n",
      "Evaluating the 5-th fold\n",
      "Evaluating the 1-th fold\n",
      "Evaluating the 2-th fold\n",
      "Evaluating the 3-th fold\n",
      "Evaluating the 4-th fold\n",
      "Evaluating the 5-th fold\n",
      "Evaluating the 1-th fold\n",
      "Evaluating the 2-th fold\n",
      "Evaluating the 3-th fold\n",
      "Evaluating the 4-th fold\n",
      "Evaluating the 5-th fold\n",
      "Evaluating the 1-th fold\n",
      "Evaluating the 2-th fold\n",
      "Evaluating the 3-th fold\n",
      "Evaluating the 4-th fold\n",
      "Evaluating the 5-th fold\n",
      "Evaluating the 1-th fold\n",
      "Evaluating the 2-th fold\n",
      "Evaluating the 3-th fold\n",
      "Evaluating the 4-th fold\n",
      "Evaluating the 5-th fold\n",
      "Evaluating the 1-th fold\n",
      "Evaluating the 2-th fold\n",
      "Evaluating the 3-th fold\n",
      "Evaluating the 4-th fold\n",
      "Evaluating the 5-th fold\n"
     ]
    }
   ],
   "source": [
    "### Forest evaluations III\n",
    "n_trees_list = [10,50,100]\n",
    "n_samples_list = [10, 50, 100]\n",
    "\n",
    "################# RP-tree ensemble with CART split\n",
    "target_dim = 1\n",
    "stop_rule = 'cell_size'\n",
    "##\n",
    "split_design = {'name':'cart'}\n",
    "proj_design = {'name':'projmat','params':{'name':'dasgupta','target_dim':target_dim}}\n",
    "stop_design = {'name':stop_rule}\n",
    "if stop_rule == 'cell_size':\n",
    "    ddiam, _, _ = data_diameter(data_tr)\n",
    "    stop_design['params'] = {'diameter':ddiam, 'max_level':2*np.log(data_tr.shape[0])}\n",
    "if split_design['name'] == 'median_perturb':\n",
    "    ddiam,_,_ = data_diameter(data_tr)\n",
    "    split_design['params'] = {'diameter':ddiam}\n",
    "\n",
    "kwargs = {'tree_design':{\"tree\":'flex','proj_design':proj_design,'split_design':split_design,'stop_design':stop_design}, \n",
    "          'predictor_type':'class'}\n",
    "scores_fc3 = list()\n",
    "params_fc3 = list()\n",
    "for n_trees in n_trees_list:\n",
    "    for n_samples in n_samples_list:\n",
    "        kwargs['n_trees'] = n_trees\n",
    "        kwargs['n_samples'] = n_samples\n",
    "        #kwargs['n_features'] = n_features\n",
    "        scores_fc3.append(cross_valid_eval(data_tr, labels_tr, 5, zero_one_loss, forest, **kwargs))\n",
    "        params_fc3.append([n_trees, n_samples])"
   ]
  },
  {
   "cell_type": "code",
   "execution_count": 54,
   "metadata": {
    "collapsed": false
   },
   "outputs": [
    {
     "data": {
      "text/plain": [
       "<matplotlib.figure.Figure at 0x11e492890>"
      ]
     },
     "metadata": {},
     "output_type": "display_data"
    },
    {
     "data": {
      "image/png": "[encoded data removed]",
      "text/plain": [
       "<matplotlib.figure.Figure at 0x11ca82a90>"
      ]
     },
     "metadata": {},
     "output_type": "display_data"
    }
   ],
   "source": [
    "pylab.rcParams['figure.figsize'] = (12.0, 8.0)\n",
    "fig = plt.figure()\n",
    "f, (ax1, ax2, ax3, ax4,ax5,ax6, ax7,ax8,ax9) = plt.subplots(1, 9, sharey=True)\n",
    "\n",
    "data = np.array(scores_fc1).T\n",
    "data1 = data[:,[0,3,6]]\n",
    "ax1.boxplot(data1)\n",
    "ax1.set_xlabel(\"number of trees\")\n",
    "ax1.set_ylabel(\"misclassification error\")\n",
    "ax1.set_title(\"RF with \\n 10 samples\")\n",
    "data2 = data[:,[1,4,7]]\n",
    "ax2.boxplot(data2)\n",
    "ax2.set_title(\"50 samples\")\n",
    "data3 = data[:,[2,5,8]]\n",
    "ax3.boxplot(data3)\n",
    "ax3.set_title(\"100 samples\")\n",
    "\n",
    "data_rp = np.array(scores_fc2).T\n",
    "data1_rp = data_rp[:,[0,3,6]]\n",
    "ax4.boxplot(data1_rp)\n",
    "ax4.set_title(\"rp-forest with\\n10 samples\")\n",
    "data2_rp = data_rp[:,[1,4,7]]\n",
    "ax5.boxplot(data2_rp)\n",
    "ax5.set_title(\"50 samples\")\n",
    "data3_rp = data_rp[:,[2,5,8]]\n",
    "ax6.boxplot(data3_rp)\n",
    "ax6.set_title(\"100 samples\")\n",
    "\n",
    "data_rpc = np.array(scores_fc3).T\n",
    "data1_rpc = data_rpc[:,[0,3,6]]\n",
    "ax7.boxplot(data1_rpc)\n",
    "ax7.set_title(\"rp-forest (cart) with\\n10 samples\")\n",
    "data2_rpc = data_rpc[:,[1,4,7]]\n",
    "ax8.boxplot(data2_rpc)\n",
    "ax8.set_title(\"50 samples\")\n",
    "data3_rpc = data_rpc[:,[2,5,8]]\n",
    "ax9.boxplot(data3_rpc)\n",
    "ax9.set_title(\"100 samples\")\n",
    "##\n",
    "plt.sca(ax1)\n",
    "plt.xticks([1, 2, 3], [10, 50, 100])\n",
    "plt.sca(ax2)\n",
    "plt.xticks([1, 2, 3], [10, 50, 100])\n",
    "plt.sca(ax3)\n",
    "plt.xticks([1, 2, 3], [10, 50, 100])\n",
    "plt.sca(ax4)\n",
    "plt.xticks([1, 2, 3], [10, 50, 100])\n",
    "plt.sca(ax5)\n",
    "plt.xticks([1, 2, 3], [10, 50, 100])\n",
    "plt.sca(ax6)\n",
    "plt.xticks([1, 2, 3], [10, 50, 100])\n",
    "plt.show()\n"
   ]
  },
  {
   "cell_type": "code",
   "execution_count": 32,
   "metadata": {
    "collapsed": false
   },
   "outputs": [
    {
     "data": {
      "text/plain": [
       "[[10, 10],\n",
       " [10, 50],\n",
       " [10, 100],\n",
       " [50, 10],\n",
       " [50, 50],\n",
       " [50, 100],\n",
       " [100, 10],\n",
       " [100, 50],\n",
       " [100, 100]]"
      ]
     },
     "execution_count": 32,
     "metadata": {},
     "output_type": "execute_result"
    }
   ],
   "source": [
    "params_fc1"
   ]
  },
  {
   "cell_type": "markdown",
   "metadata": {},
   "source": [
    "## Dataset II - High-dim mixture of Gaussians "
   ]
  },
  {
   "cell_type": "code",
   "execution_count": null,
   "metadata": {
    "collapsed": true
   },
   "outputs": [],
   "source": [
    "def sample_highdim_gauss(data_dim, intrinsic_dim, n_samples, n_components=2):\n",
    "    "
   ]
  },
  {
   "cell_type": "markdown",
   "metadata": {},
   "source": [
    "## Dataset III - Dictionary learning model"
   ]
  },
  {
   "cell_type": "code",
   "execution_count": null,
   "metadata": {
    "collapsed": true
   },
   "outputs": [],
   "source": [
    "def sample_dict_learn(dictDim, numDict, sparsity, srange, num_samples):\n",
    "    \"\"\"\n",
    "    Input\n",
    "        -dictDim\n",
    "        -numDict\n",
    "        -sparsity\n",
    "        -srange\n",
    "        -num_samples\n",
    "        \n",
    "    Output\n",
    "        -Y: dictDim by num_samples\n",
    "    \"\"\"\n",
    "    ## we use independent Gaussian as our dictionary\n",
    "    A = np.empty([dictDim, numDict])\n",
    "    for i in range(dictDim):\n",
    "        for j in range(numDict):\n",
    "            A[i,j] = np.random.normal() #default mean 0, var 1\n",
    "    \n",
    "    X = np.zeros([numDict, num_samples])\n",
    "    for s in range(num_samples):\n",
    "        #randomly sample indices\n",
    "        ind = np.random.choice(numDict, sparsity, replace = False) #sample without replacement\n",
    "        val = np.random.uniform(low=srange[0], high=srange[1], size=sparsity)\n",
    "        sign = np.ones(sparsity)\n",
    "        #negate = np.random.choice(sparsity, sparsity/2, replace = False)\n",
    "        #sign[negate] = -1\n",
    "        \n",
    "        #X[ind, s] = np.multiply(val, sign)\n",
    "        X[ind, s] = val\n",
    "        #print X[:,s]\n",
    "    \n",
    "    Y = np.dot(A,X)\n",
    "    \n",
    "    return A,X,Y\n",
    "\n",
    "\n",
    "##test\n",
    "A,X,Y = sample_DL_model(5, 5, 2, [2,10], 10)\n"
   ]
  },
  {
   "cell_type": "markdown",
   "metadata": {},
   "source": [
    "## Dataset original - Sonar"
   ]
  },
  {
   "cell_type": "code",
   "execution_count": 40,
   "metadata": {
    "collapsed": false
   },
   "outputs": [
    {
     "name": "stdout",
     "output_type": "stream",
     "text": [
      "sonar.all_data.pickle already present - Skipping pickling.\n"
     ]
    }
   ],
   "source": [
    "# pickle or get pickled data with desired dataname\n",
    "def maybe_pickle(dataname, data = None, force = False, verbose = True):\n",
    "    \"\"\"\n",
    "    Process and pickle a dataset if not present\n",
    "    \"\"\"\n",
    "    filename = dataname + '.pickle'\n",
    "    if force or not os.path.exists(filename):\n",
    "        # pickle the dataset\n",
    "        print('Pickling data to file %s' % filename)\n",
    "        try:\n",
    "            with open(filename, 'wb') as f:\n",
    "                pickle.dump(data, f, pickle.HIGHEST_PROTOCOL)\n",
    "        except Exception as e:\n",
    "            print('Unable to save to', filename, ':', e) \n",
    "    else:\n",
    "        print('%s already present - Skipping pickling.' % filename)\n",
    "        with open(filename, 'rb') as f:\n",
    "            data = pickle.load(f)\n",
    "\n",
    "    return data\n",
    "\n",
    "####\n",
    "data_dict=maybe_pickle('sonar.all_data') "
   ]
  },
  {
   "cell_type": "code",
   "execution_count": 41,
   "metadata": {
    "collapsed": false
   },
   "outputs": [
    {
     "name": "stdout",
     "output_type": "stream",
     "text": [
      "number of one's in labels are 111\n",
      "number of one's in training labels are 58\n"
     ]
    }
   ],
   "source": [
    "data = data_dict['data']\n",
    "labels = data_dict['labels']\n",
    "data_tr = data[:104,:]\n",
    "labels_tr = labels[:104]\n",
    "data_tt = data[104:,:]\n",
    "labels_tt = labels[104:]\n",
    "print(\"number of one's in labels are %d\" %labels.sum())\n",
    "print(\"number of one's in training labels are %d\" %labels_tr.sum())"
   ]
  },
  {
   "cell_type": "code",
   "execution_count": 42,
   "metadata": {
    "collapsed": false
   },
   "outputs": [
    {
     "name": "stdout",
     "output_type": "stream",
     "text": [
      "Evaluating the 1-th fold\n",
      "Evaluating the 2-th fold\n",
      "Evaluating the 3-th fold\n",
      "Evaluating the 4-th fold\n",
      "Evaluating the 5-th fold\n"
     ]
    }
   ],
   "source": [
    "mtry = 10\n",
    "max_height = 8\n",
    "#n_trees_list = [1,10,100,500]\n",
    "#n_samples_list = [10, 50, 100, 200]\n",
    "\n",
    "scores = list()\n",
    "kwargs = dict()\n",
    "#kwargs['n_estimators'] = n_trees\n",
    "kwargs['max_depth'] = max_height\n",
    "kwargs['max_features'] = mtry\n",
    "scores.append(cross_valid_eval(data_tr, labels_tr, 5, zero_one_loss, DecisionTreeClassifier, \n",
    "                                       sklearn=True, **kwargs))"
   ]
  },
  {
   "cell_type": "code",
   "execution_count": 47,
   "metadata": {
    "collapsed": false
   },
   "outputs": [
    {
     "name": "stdout",
     "output_type": "stream",
     "text": [
      "Evaluating the 1-th fold\n",
      "Evaluating the 2-th fold\n",
      "Evaluating the 3-th fold\n",
      "Evaluating the 4-th fold\n",
      "Evaluating the 5-th fold\n",
      "Evaluating the 1-th fold\n",
      "Evaluating the 2-th fold\n",
      "Evaluating the 3-th fold\n",
      "Evaluating the 4-th fold\n",
      "Evaluating the 5-th fold\n",
      "Evaluating the 1-th fold\n",
      "Evaluating the 2-th fold\n",
      "Evaluating the 3-th fold\n",
      "Evaluating the 4-th fold\n",
      "Evaluating the 5-th fold\n",
      "Evaluating the 1-th fold\n",
      "Evaluating the 2-th fold\n",
      "Evaluating the 3-th fold\n",
      "Evaluating the 4-th fold\n",
      "Evaluating the 5-th fold\n"
     ]
    }
   ],
   "source": [
    "mtry = 10\n",
    "max_height = 8\n",
    "n_trees_list = [1,10,100,500]\n",
    "#n_samples_list = [10, 50, 100, 200]\n",
    "\n",
    "scores_fc1 = list()\n",
    "params_fc1 = list()\n",
    "kwargs = dict()\n",
    "for n_trees in n_trees_list:\n",
    "    kwargs['n_estimators'] = n_trees\n",
    "    kwargs['max_depth'] = max_height\n",
    "    kwargs['max_features'] = mtry\n",
    "    scores_fc1.append(cross_valid_eval(data_tr, labels_tr, 5, zero_one_loss, RandomForestClassifier, \n",
    "                                       sklearn=True, **kwargs))\n",
    "    params_fc1.append(n_trees)\n",
    "    #estimator = RandomForestClassifier(n_estimators=n_trees, max_features=mtry, max_depth=max_height)\n",
    "    #estimator.fit(data_tr, labels_tr)\n",
    "    #estimator.predict()"
   ]
  },
  {
   "cell_type": "code",
   "execution_count": 48,
   "metadata": {
    "collapsed": false
   },
   "outputs": [
    {
     "data": {
      "text/plain": [
       "array([ 0.26095238,  0.24095238,  0.18238095,  0.22095238])"
      ]
     },
     "metadata": {},
     "output_type": "display_data"
    }
   ],
   "source": [
    "display(np.mean(scores_fc1,axis=1))\n"
   ]
  },
  {
   "cell_type": "code",
   "execution_count": 43,
   "metadata": {
    "collapsed": false
   },
   "outputs": [
    {
     "name": "stdout",
     "output_type": "stream",
     "text": [
      "[0.19047619047619047, 0.3333333333333333, 0.19047619047619047, 0.23809523809523808, 0.35]\n"
     ]
    }
   ],
   "source": [
    "for i in range(len(scores)):\n",
    "    print(scores[i][0])"
   ]
  },
  {
   "cell_type": "code",
   "execution_count": null,
   "metadata": {
    "collapsed": true
   },
   "outputs": [],
   "source": []
  }
 ],
 "metadata": {
  "kernelspec": {
   "display_name": "Python [Root]",
   "language": "python",
   "name": "Python [Root]"
  },
  "language_info": {
   "codemirror_mode": {
    "name": "ipython",
    "version": 2
   },
   "file_extension": ".py",
   "mimetype": "text/x-python",
   "name": "python",
   "nbconvert_exporter": "python",
   "pygments_lexer": "ipython2",
   "version": "2.7.12"
  }
 },
 "nbformat": 4,
 "nbformat_minor": 0
}
